{
 "cells": [
  {
   "cell_type": "markdown",
   "metadata": {
    "colab_type": "text",
    "id": "view-in-github"
   },
   "source": [
    "<a href=\"https://colab.research.google.com/github/carlosfab/data_science/blob/master/Setembro_Amarelo.ipynb\" target=\"_parent\"><img src=\"https://colab.research.google.com/assets/colab-badge.svg\" alt=\"Open In Colab\"/></a>"
   ]
  },
  {
   "cell_type": "markdown",
   "metadata": {
    "colab_type": "text",
    "id": "zLNoUaB_R4-f"
   },
   "source": [
    "# Setembro Amarelo: análise do suicídio no Brasil com Data Science\n",
    "\n",
    "Todos os anos, mais de 12 mil pessoas tiram suas próprias vidas no Brasil. Em um cenário mundial, esse número ultrapassa 1 milhão de pessoas, levando o suicídio a ser considerado um problema de saúde pública.\n",
    "\n",
    "Para você ter noção da dimensão desses números, saiba que [o suicídio tem uma taxa maior do que vítimas de AIDS e da maioria dos tipos de câncer](https://pt.wikipedia.org/wiki/Setembro_Amarelo). Segundo a Organização Mundial da Saúde (OMS), o Brasil ocupa o oitavo lugar no número de suicídios no mundo: São 32 brasileiros por dia.\n",
    "\n",
    "<center><img src=\"https://raw.githubusercontent.com/carlosfab/data_science/master/img/setembro_amarelo.png\"></center>\n",
    "\n",
    "**Setembro Amarelo** é uma iniciativa da Associação Brasileira de Psiquiatria (ABP), em parceria com o Conselho Federal de Medicina (CFM), para divulgar e alertar a população sobre o problema.\n",
    "\n",
    "Oficialmente, o Dia Mundial de Prevenção ao Suicídio ocorre no dia 10 de setembro, porém durante o mês inteiro são promovidos debates, campanhas e ações para a conscientização sobre o suicídio.\n",
    "\n",
    "O que trago neste artigo é muito mais que apenas um artigo de Ciência de Dados. É uma pequena contribuição que visa ajudar a entender a extensão desse problema no Brasil, além de incentivar o Setembro Amarelo dentro da comunidade Python e Data Science."
   ]
  },
  {
   "cell_type": "markdown",
   "metadata": {
    "colab_type": "text",
    "id": "E1si-OwNZuNI"
   },
   "source": [
    "## Descrição dos dados sobre suicídio\n",
    "\n",
    "O melhor conjunto de dados que eu encontrei na internet [está hospedado nesta página](https://www.kaggle.com/russellyates88/suicide-rates-overview-1985-to-2016), e traz informações sobre vários países. O *dataset* contempla o período entre os anos de 1985 e 2016.\n",
    "\n",
    "Esse *dataset*, na verdade, é um compilado de outros 4 *datasets*. A pessoa que disponibilizou o mesmo fez um grande trabalho de limpeza e padronização. Caso você deseje tenha interesse em conhecer as fontes que deram origem a este único arquivo, são elas:\n",
    "\n",
    "* [United Nations Development Program. (2018). Human development index - HDI.](http://hdr.undp.org/en/indicators/137506)\n",
    "* [World Bank. (2018). World development indicators: GDP (current US$) by country:1985 to 2016.](http://databank.worldbank.org/data/source/world-development-indicators#)\n",
    "* [Suicide in the Twenty-First Century (Szamil, 2017).](https://www.kaggle.com/szamil/suicide-in-the-twenty-first-century/notebook)\n",
    "* [World Health Organization. (2018). Suicide prevention.](http://www.who.int/mental_health/suicide-prevention/en/)"
   ]
  },
  {
   "cell_type": "code",
   "execution_count": 1,
   "metadata": {
    "colab": {},
    "colab_type": "code",
    "id": "JX-dbWTb-E5f"
   },
   "outputs": [],
   "source": [
    "# importar pacotes necessários\n",
    "import numpy as np\n",
    "import pandas as pd\n",
    "import matplotlib.pyplot as plt\n",
    "import seaborn as sns\n",
    "\n",
    "%matplotlib inline"
   ]
  },
  {
   "cell_type": "code",
   "execution_count": 2,
   "metadata": {
    "colab": {},
    "colab_type": "code",
    "id": "07Wbf53k-PN_"
   },
   "outputs": [],
   "source": [
    "# importar os dados sobre suicídio para um DataFrame\n",
    "df = pd.read_csv(\"./datasets/suicide_rates.csv\")"
   ]
  },
  {
   "cell_type": "markdown",
   "metadata": {
    "colab_type": "text",
    "id": "UVU0wYVcFFEP"
   },
   "source": [
    "### Dicionário de Variáveis\n",
    "\n",
    "Esse arquivo *csv* possui 12 colunas. São elas:\n",
    "\n",
    "* **country:** país onde os dados foram registrados\n",
    "  * 101 países\n",
    "* **year:** ano em que os dados foram registrados\n",
    "  * 1987 a 2016\n",
    "* **sex:** sexo considerado no registro\n",
    "  * *male* - masculino\n",
    "  * *female* - feminino\n",
    "* **age**: faixa etária considerada\n",
    "  * 5-14 anos\n",
    "  * 15-24 anos\n",
    "  * 25-34 anos\n",
    "  * 35-54 anos\n",
    "  * 55-74 anos\n",
    "  * 75+ anos\n",
    "* **suicides_no:** número de suicídios\n",
    "* **population:** população para o grupo\n",
    "* **suicides/100k pop:** número de suicídios por 100 mil habitantes\n",
    "* **country_year:** identificador contendo `country` + `year`\n",
    "* **HDI for year:** Índice de Desenvolvimento Humano (IDH) para o ano\n",
    "* **gdp_for_year:** Produto Interno Bruto (PIB) para o ano\n",
    "* **gdp_per_capita:** Produto Interno Bruto (PIB) per capita"
   ]
  },
  {
   "cell_type": "markdown",
   "metadata": {
    "colab_type": "text",
    "id": "Jj1Aiqxlc3uR"
   },
   "source": [
    "## Análise Exploratória dos Dados\n",
    "\n",
    "Como mencionei acima, este arquivo recebeu um tratamento anterior que facilitará muito a nossa análise.\n",
    "\n",
    "O conjunto de dados contém 27.820 linhas e 12 colunas. Como você pode ver abaixo, os dados podem ser agrupados por vários critérios como país, ano, sexo e idade."
   ]
  },
  {
   "cell_type": "code",
   "execution_count": 3,
   "metadata": {
    "colab": {
     "base_uri": "https://localhost:8080/",
     "height": 332
    },
    "colab_type": "code",
    "id": "jytGO2md-dNH",
    "outputId": "04e29b20-694c-4a9c-9890-5bc228253dd9"
   },
   "outputs": [
    {
     "name": "stdout",
     "output_type": "stream",
     "text": [
      "Formato do DataFrame:  (27820, 12)\n"
     ]
    },
    {
     "data": {
      "text/html": [
       "<div>\n",
       "<style scoped>\n",
       "    .dataframe tbody tr th:only-of-type {\n",
       "        vertical-align: middle;\n",
       "    }\n",
       "\n",
       "    .dataframe tbody tr th {\n",
       "        vertical-align: top;\n",
       "    }\n",
       "\n",
       "    .dataframe thead th {\n",
       "        text-align: right;\n",
       "    }\n",
       "</style>\n",
       "<table border=\"1\" class=\"dataframe\">\n",
       "  <thead>\n",
       "    <tr style=\"text-align: right;\">\n",
       "      <th></th>\n",
       "      <th>country</th>\n",
       "      <th>year</th>\n",
       "      <th>sex</th>\n",
       "      <th>age</th>\n",
       "      <th>suicides_no</th>\n",
       "      <th>population</th>\n",
       "      <th>suicides/100k pop</th>\n",
       "      <th>country-year</th>\n",
       "      <th>HDI for year</th>\n",
       "      <th>gdp_for_year ($)</th>\n",
       "      <th>gdp_per_capita ($)</th>\n",
       "      <th>generation</th>\n",
       "    </tr>\n",
       "  </thead>\n",
       "  <tbody>\n",
       "    <tr>\n",
       "      <th>0</th>\n",
       "      <td>Albania</td>\n",
       "      <td>1987</td>\n",
       "      <td>male</td>\n",
       "      <td>15-24 years</td>\n",
       "      <td>21</td>\n",
       "      <td>312900</td>\n",
       "      <td>6.71</td>\n",
       "      <td>Albania1987</td>\n",
       "      <td>NaN</td>\n",
       "      <td>2,156,624,900</td>\n",
       "      <td>796</td>\n",
       "      <td>Generation X</td>\n",
       "    </tr>\n",
       "    <tr>\n",
       "      <th>1</th>\n",
       "      <td>Albania</td>\n",
       "      <td>1987</td>\n",
       "      <td>male</td>\n",
       "      <td>35-54 years</td>\n",
       "      <td>16</td>\n",
       "      <td>308000</td>\n",
       "      <td>5.19</td>\n",
       "      <td>Albania1987</td>\n",
       "      <td>NaN</td>\n",
       "      <td>2,156,624,900</td>\n",
       "      <td>796</td>\n",
       "      <td>Silent</td>\n",
       "    </tr>\n",
       "    <tr>\n",
       "      <th>2</th>\n",
       "      <td>Albania</td>\n",
       "      <td>1987</td>\n",
       "      <td>female</td>\n",
       "      <td>15-24 years</td>\n",
       "      <td>14</td>\n",
       "      <td>289700</td>\n",
       "      <td>4.83</td>\n",
       "      <td>Albania1987</td>\n",
       "      <td>NaN</td>\n",
       "      <td>2,156,624,900</td>\n",
       "      <td>796</td>\n",
       "      <td>Generation X</td>\n",
       "    </tr>\n",
       "    <tr>\n",
       "      <th>3</th>\n",
       "      <td>Albania</td>\n",
       "      <td>1987</td>\n",
       "      <td>male</td>\n",
       "      <td>75+ years</td>\n",
       "      <td>1</td>\n",
       "      <td>21800</td>\n",
       "      <td>4.59</td>\n",
       "      <td>Albania1987</td>\n",
       "      <td>NaN</td>\n",
       "      <td>2,156,624,900</td>\n",
       "      <td>796</td>\n",
       "      <td>G.I. Generation</td>\n",
       "    </tr>\n",
       "    <tr>\n",
       "      <th>4</th>\n",
       "      <td>Albania</td>\n",
       "      <td>1987</td>\n",
       "      <td>male</td>\n",
       "      <td>25-34 years</td>\n",
       "      <td>9</td>\n",
       "      <td>274300</td>\n",
       "      <td>3.28</td>\n",
       "      <td>Albania1987</td>\n",
       "      <td>NaN</td>\n",
       "      <td>2,156,624,900</td>\n",
       "      <td>796</td>\n",
       "      <td>Boomers</td>\n",
       "    </tr>\n",
       "  </tbody>\n",
       "</table>\n",
       "</div>"
      ],
      "text/plain": [
       "   country  year     sex          age  suicides_no  population  \\\n",
       "0  Albania  1987    male  15-24 years           21      312900   \n",
       "1  Albania  1987    male  35-54 years           16      308000   \n",
       "2  Albania  1987  female  15-24 years           14      289700   \n",
       "3  Albania  1987    male    75+ years            1       21800   \n",
       "4  Albania  1987    male  25-34 years            9      274300   \n",
       "\n",
       "   suicides/100k pop country-year  HDI for year  gdp_for_year ($)   \\\n",
       "0               6.71  Albania1987           NaN      2,156,624,900   \n",
       "1               5.19  Albania1987           NaN      2,156,624,900   \n",
       "2               4.83  Albania1987           NaN      2,156,624,900   \n",
       "3               4.59  Albania1987           NaN      2,156,624,900   \n",
       "4               3.28  Albania1987           NaN      2,156,624,900   \n",
       "\n",
       "   gdp_per_capita ($)       generation  \n",
       "0                 796     Generation X  \n",
       "1                 796           Silent  \n",
       "2                 796     Generation X  \n",
       "3                 796  G.I. Generation  \n",
       "4                 796          Boomers  "
      ]
     },
     "execution_count": 3,
     "metadata": {},
     "output_type": "execute_result"
    }
   ],
   "source": [
    "# ver o formato do DataFrame\n",
    "print(\"Formato do DataFrame: \", df.shape)\n",
    "\n",
    "# ver as 5 primeiras entradas dos dataset\n",
    "df.head()"
   ]
  },
  {
   "cell_type": "markdown",
   "metadata": {
    "colab_type": "text",
    "id": "Z_JKgWqKeYm5"
   },
   "source": [
    "A primeira coisa que eu quero fazer é criar um *DataFrame* contendo apenas as informações relacionadas ao Brasil.\n",
    "\n",
    "Isso irá facilitar muito nossa manipulação da estrutura, além de ser uma boa prática em projetos de *Data Science*.\n"
   ]
  },
  {
   "cell_type": "code",
   "execution_count": 4,
   "metadata": {
    "colab": {
     "base_uri": "https://localhost:8080/",
     "height": 332
    },
    "colab_type": "code",
    "id": "4oisAgzrevf2",
    "outputId": "d1fd0eea-36f7-444f-b9b2-21272562ee65"
   },
   "outputs": [
    {
     "name": "stdout",
     "output_type": "stream",
     "text": [
      "Formato do DataFrame:  (372, 12)\n"
     ]
    },
    {
     "data": {
      "text/html": [
       "<div>\n",
       "<style scoped>\n",
       "    .dataframe tbody tr th:only-of-type {\n",
       "        vertical-align: middle;\n",
       "    }\n",
       "\n",
       "    .dataframe tbody tr th {\n",
       "        vertical-align: top;\n",
       "    }\n",
       "\n",
       "    .dataframe thead th {\n",
       "        text-align: right;\n",
       "    }\n",
       "</style>\n",
       "<table border=\"1\" class=\"dataframe\">\n",
       "  <thead>\n",
       "    <tr style=\"text-align: right;\">\n",
       "      <th></th>\n",
       "      <th>country</th>\n",
       "      <th>year</th>\n",
       "      <th>sex</th>\n",
       "      <th>age</th>\n",
       "      <th>suicides_no</th>\n",
       "      <th>population</th>\n",
       "      <th>suicides/100k pop</th>\n",
       "      <th>country-year</th>\n",
       "      <th>HDI for year</th>\n",
       "      <th>gdp_for_year ($)</th>\n",
       "      <th>gdp_per_capita ($)</th>\n",
       "      <th>generation</th>\n",
       "    </tr>\n",
       "  </thead>\n",
       "  <tbody>\n",
       "    <tr>\n",
       "      <th>4172</th>\n",
       "      <td>Brazil</td>\n",
       "      <td>1985</td>\n",
       "      <td>male</td>\n",
       "      <td>75+ years</td>\n",
       "      <td>129</td>\n",
       "      <td>840300</td>\n",
       "      <td>15.35</td>\n",
       "      <td>Brazil1985</td>\n",
       "      <td>0.576</td>\n",
       "      <td>222,942,790,435</td>\n",
       "      <td>1898</td>\n",
       "      <td>G.I. Generation</td>\n",
       "    </tr>\n",
       "    <tr>\n",
       "      <th>4173</th>\n",
       "      <td>Brazil</td>\n",
       "      <td>1985</td>\n",
       "      <td>male</td>\n",
       "      <td>55-74 years</td>\n",
       "      <td>535</td>\n",
       "      <td>5364900</td>\n",
       "      <td>9.97</td>\n",
       "      <td>Brazil1985</td>\n",
       "      <td>0.576</td>\n",
       "      <td>222,942,790,435</td>\n",
       "      <td>1898</td>\n",
       "      <td>G.I. Generation</td>\n",
       "    </tr>\n",
       "    <tr>\n",
       "      <th>4174</th>\n",
       "      <td>Brazil</td>\n",
       "      <td>1985</td>\n",
       "      <td>male</td>\n",
       "      <td>35-54 years</td>\n",
       "      <td>1011</td>\n",
       "      <td>11986300</td>\n",
       "      <td>8.43</td>\n",
       "      <td>Brazil1985</td>\n",
       "      <td>0.576</td>\n",
       "      <td>222,942,790,435</td>\n",
       "      <td>1898</td>\n",
       "      <td>Silent</td>\n",
       "    </tr>\n",
       "    <tr>\n",
       "      <th>4175</th>\n",
       "      <td>Brazil</td>\n",
       "      <td>1985</td>\n",
       "      <td>male</td>\n",
       "      <td>25-34 years</td>\n",
       "      <td>791</td>\n",
       "      <td>10762900</td>\n",
       "      <td>7.35</td>\n",
       "      <td>Brazil1985</td>\n",
       "      <td>0.576</td>\n",
       "      <td>222,942,790,435</td>\n",
       "      <td>1898</td>\n",
       "      <td>Boomers</td>\n",
       "    </tr>\n",
       "    <tr>\n",
       "      <th>4176</th>\n",
       "      <td>Brazil</td>\n",
       "      <td>1985</td>\n",
       "      <td>male</td>\n",
       "      <td>15-24 years</td>\n",
       "      <td>661</td>\n",
       "      <td>13834000</td>\n",
       "      <td>4.78</td>\n",
       "      <td>Brazil1985</td>\n",
       "      <td>0.576</td>\n",
       "      <td>222,942,790,435</td>\n",
       "      <td>1898</td>\n",
       "      <td>Generation X</td>\n",
       "    </tr>\n",
       "  </tbody>\n",
       "</table>\n",
       "</div>"
      ],
      "text/plain": [
       "     country  year   sex          age  suicides_no  population  \\\n",
       "4172  Brazil  1985  male    75+ years          129      840300   \n",
       "4173  Brazil  1985  male  55-74 years          535     5364900   \n",
       "4174  Brazil  1985  male  35-54 years         1011    11986300   \n",
       "4175  Brazil  1985  male  25-34 years          791    10762900   \n",
       "4176  Brazil  1985  male  15-24 years          661    13834000   \n",
       "\n",
       "      suicides/100k pop country-year  HDI for year  gdp_for_year ($)   \\\n",
       "4172              15.35   Brazil1985         0.576    222,942,790,435   \n",
       "4173               9.97   Brazil1985         0.576    222,942,790,435   \n",
       "4174               8.43   Brazil1985         0.576    222,942,790,435   \n",
       "4175               7.35   Brazil1985         0.576    222,942,790,435   \n",
       "4176               4.78   Brazil1985         0.576    222,942,790,435   \n",
       "\n",
       "      gdp_per_capita ($)       generation  \n",
       "4172                1898  G.I. Generation  \n",
       "4173                1898  G.I. Generation  \n",
       "4174                1898           Silent  \n",
       "4175                1898          Boomers  \n",
       "4176                1898     Generation X  "
      ]
     },
     "execution_count": 4,
     "metadata": {},
     "output_type": "execute_result"
    }
   ],
   "source": [
    "# extrair apenas os dados relativos ao Brasil\n",
    "df_brasil = df[df.country == \"Brazil\"].copy()\n",
    "\n",
    "# ver o formato do novo DataFrame\n",
    "print(\"Formato do DataFrame: \", df_brasil.shape)\n",
    "\n",
    "# exibir as 5 primeiras entradas do novo DataFrame\n",
    "df_brasil.head()"
   ]
  },
  {
   "cell_type": "markdown",
   "metadata": {
    "colab_type": "text",
    "id": "KqHJi4jBHDqt"
   },
   "source": [
    "Para ter uma noção da integridade dos dados, vou verificar isoladamente os *DataFrames* do Brasil e o Mundial. Principalmente quando se quer comparar duas coisas, é importante que eles sejam similares e estatisticamente representativas.\n",
    "\n",
    "Como você vê abaixo, a porcentagem de valores ausentes referentes ao IDH torna inviável o uso dessa variável. Caso se desejasse realmente usar, seria necessária uma etapa de coleta de dados a partir de outras fontes."
   ]
  },
  {
   "cell_type": "code",
   "execution_count": 5,
   "metadata": {
    "colab": {
     "base_uri": "https://localhost:8080/",
     "height": 567
    },
    "colab_type": "code",
    "id": "m0HS6gfPHXp1",
    "outputId": "4de7aa35-47de-4843-c30a-7882b5e54fea"
   },
   "outputs": [
    {
     "name": "stdout",
     "output_type": "stream",
     "text": [
      "--> Mundial:\n"
     ]
    },
    {
     "data": {
      "text/plain": [
       "country                   0\n",
       "year                      0\n",
       "sex                       0\n",
       "age                       0\n",
       "suicides_no               0\n",
       "population                0\n",
       "suicides/100k pop         0\n",
       "country-year              0\n",
       "HDI for year          19456\n",
       " gdp_for_year ($)         0\n",
       "gdp_per_capita ($)        0\n",
       "generation                0\n",
       "dtype: int64"
      ]
     },
     "metadata": {},
     "output_type": "display_data"
    },
    {
     "name": "stdout",
     "output_type": "stream",
     "text": [
      "\n",
      " --.--.--.--.--.--.--.--.--.--. \n",
      "\n",
      "--> Brasil:\n"
     ]
    },
    {
     "data": {
      "text/plain": [
       "country                 0\n",
       "year                    0\n",
       "sex                     0\n",
       "age                     0\n",
       "suicides_no             0\n",
       "population              0\n",
       "suicides/100k pop       0\n",
       "country-year            0\n",
       "HDI for year          252\n",
       " gdp_for_year ($)       0\n",
       "gdp_per_capita ($)      0\n",
       "generation              0\n",
       "dtype: int64"
      ]
     },
     "metadata": {},
     "output_type": "display_data"
    }
   ],
   "source": [
    "# valores ausentes nos dados mundiais\n",
    "print(\"--> Mundial:\")\n",
    "display(df.isnull().sum())\n",
    "\n",
    "print(\"\\n\", \"--.\" * 10, \"\\n\")\n",
    "\n",
    "# velores ausentes nos dados do Brasil\n",
    "print(\"--> Brasil:\")\n",
    "display(df_brasil.isnull().sum())"
   ]
  },
  {
   "cell_type": "markdown",
   "metadata": {
    "colab_type": "text",
    "id": "WmHM3UDsLtBX"
   },
   "source": [
    "### Tendência da taxa de suicídio no Brasil\n",
    "\n"
   ]
  },
  {
   "cell_type": "markdown",
   "metadata": {
    "colab_type": "text",
    "id": "7jfaSCv2IzFZ"
   },
   "source": [
    "Uma primeira comparação que farei diz respeito ao número de suicídios cometidos no Brasil por 100 mil habitantes, e a tendência do gráfico em relação à taxa mundial.\n",
    "\n",
    "Para ver a tendência, é melhor sempre usar essa relação por 100 mil, pois a população do país cresceu muito de 1985 para 2015. Se formos comparar em termos absolutos, poderemos tirar conclusões erradas ou distorcidas."
   ]
  },
  {
   "cell_type": "code",
   "execution_count": 50,
   "metadata": {
    "colab": {
     "base_uri": "https://localhost:8080/",
     "height": 268
    },
    "colab_type": "code",
    "id": "OLi25tlnKS-m",
    "outputId": "46a0dcd2-9be1-4447-8963-68a61c273862"
   },
   "outputs": [
    {
     "data": {
      "image/png": "[encoded data removed]",
      "text/plain": [
       "<Figure size 432x288 with 1 Axes>"
      ]
     },
     "metadata": {
      "needs_background": "light"
     },
     "output_type": "display_data"
    }
   ],
   "source": [
    "# pegar a media mundial e do Brasil em suicidios\n",
    "years = df_brasil.year.unique()    # pegar os anos para o eixo x\n",
    "suicides_brasil_mean = df_brasil.groupby('year')['suicides/100k pop'].mean()\n",
    "suicides_world_mean = df.groupby('year')['suicides/100k pop'].mean()\n",
    "\n",
    "# como o Brasil nao tem 2016, vou eliminar do dataframe mundial essa entrada\n",
    "suicides_world_mean.drop(2016, inplace=True)\n",
    "\n",
    "# plotar lineplot comparativo entre Brasil e Mundo\n",
    "ax = sns.lineplot(x=years, y=suicides_brasil_mean, label='Brasil')\n",
    "ax = sns.lineplot(x=years, y=suicides_world_mean, label='Mundo')\n",
    "plt.legend(title=\"Taxa de suicídio\")\n",
    "plt.show()"
   ]
  },
  {
   "cell_type": "markdown",
   "metadata": {
    "colab_type": "text",
    "id": "n99JaHjAK8Az"
   },
   "source": [
    "Uma coisa que é facilmente percebida no gráfico acima é que apesar da taxa de suicídios no Brasil ser menor que a média mundial, ela vem crescendo constantemente ao longo de 30 anos.\n",
    "\n",
    "A linha laranja teve um pico por volta de 1995, porém reverteu o *slope* e vem caindo ano após ano. Já a linha azul (Brasil) tem um *slope* positivo praticamente ao longo de todo o período analisado."
   ]
  },
  {
   "cell_type": "code",
   "execution_count": 53,
   "metadata": {},
   "outputs": [],
   "source": [
    "df_brasil_mean = df_brasil.groupby('year')[['suicides/100k pop']].mean()\n",
    "df_world_mean = df.groupby('year')[['suicides/100k pop']].mean()"
   ]
  },
  {
   "cell_type": "code",
   "execution_count": 64,
   "metadata": {},
   "outputs": [],
   "source": [
    "from sklearn.model_selection import train_test_split\n",
    "\n",
    "df_brazil_x = df_brasil_mean.index\n",
    "df_brazil_y = df_brasil_mean['suicides/100k pop']\n",
    "\n",
    "df_world_x = df_world_mean.index\n",
    "df_world_y = df_world_mean['suicides/100k pop']\n",
    "                             \n",
    "X_train_brazil, X_test_brazil, y_train_brazil, y_test_brazil = train_test_split(df_brazil_x, df_brazil_y, test_size=0.30, random_state=42)\n",
    "X_train_world, X_test_world, y_train_world, y_test_world = train_test_split(df_world_x, df_world_y, test_size=0.30, random_state=42)\n",
    "\n"
   ]
  },
  {
   "cell_type": "code",
   "execution_count": 66,
   "metadata": {},
   "outputs": [
    {
     "ename": "ValueError",
     "evalue": "Expected 2D array, got 1D array instead:\narray=[1989 2001 1990 1998 1996 2007 1986 1987 2010 1988 2006 2011 2003 2015\n 2005 1992 1995 1999 2013 2004 1991].\nReshape your data either using array.reshape(-1, 1) if your data has a single feature or array.reshape(1, -1) if it contains a single sample.",
     "output_type": "error",
     "traceback": [
      "\u001b[0;31m---------------------------------------------------------------------------\u001b[0m",
      "\u001b[0;31mValueError\u001b[0m                                Traceback (most recent call last)",
      "\u001b[0;32m<ipython-input-66-afcbd492b2f6>\u001b[0m in \u001b[0;36m<module>\u001b[0;34m\u001b[0m\n\u001b[1;32m      1\u001b[0m \u001b[0;32mfrom\u001b[0m \u001b[0msklearn\u001b[0m\u001b[0;34m.\u001b[0m\u001b[0mlinear_model\u001b[0m \u001b[0;32mimport\u001b[0m \u001b[0mLinearRegression\u001b[0m\u001b[0;34m\u001b[0m\u001b[0;34m\u001b[0m\u001b[0m\n\u001b[1;32m      2\u001b[0m \u001b[0;34m\u001b[0m\u001b[0m\n\u001b[0;32m----> 3\u001b[0;31m \u001b[0mreg_brazil\u001b[0m \u001b[0;34m=\u001b[0m \u001b[0mLinearRegression\u001b[0m\u001b[0;34m(\u001b[0m\u001b[0;34m)\u001b[0m\u001b[0;34m.\u001b[0m\u001b[0mfit\u001b[0m\u001b[0;34m(\u001b[0m\u001b[0mX_train_brazil\u001b[0m\u001b[0;34m,\u001b[0m \u001b[0my_train_brazil\u001b[0m\u001b[0;34m)\u001b[0m\u001b[0;34m\u001b[0m\u001b[0;34m\u001b[0m\u001b[0m\n\u001b[0m\u001b[1;32m      4\u001b[0m \u001b[0mresul_reg_brazil\u001b[0m \u001b[0;34m=\u001b[0m \u001b[0mreg_brazil\u001b[0m\u001b[0;34m.\u001b[0m\u001b[0mscore\u001b[0m\u001b[0;34m(\u001b[0m\u001b[0mX_test_brazil\u001b[0m\u001b[0;34m,\u001b[0m \u001b[0my_test_brazil\u001b[0m\u001b[0;34m)\u001b[0m\u001b[0;34m\u001b[0m\u001b[0;34m\u001b[0m\u001b[0m\n\u001b[1;32m      5\u001b[0m \u001b[0;34m\u001b[0m\u001b[0m\n",
      "\u001b[0;32m~/anaconda3/lib/python3.7/site-packages/sklearn/linear_model/base.py\u001b[0m in \u001b[0;36mfit\u001b[0;34m(self, X, y, sample_weight)\u001b[0m\n\u001b[1;32m    461\u001b[0m         \u001b[0mn_jobs_\u001b[0m \u001b[0;34m=\u001b[0m \u001b[0mself\u001b[0m\u001b[0;34m.\u001b[0m\u001b[0mn_jobs\u001b[0m\u001b[0;34m\u001b[0m\u001b[0;34m\u001b[0m\u001b[0m\n\u001b[1;32m    462\u001b[0m         X, y = check_X_y(X, y, accept_sparse=['csr', 'csc', 'coo'],\n\u001b[0;32m--> 463\u001b[0;31m                          y_numeric=True, multi_output=True)\n\u001b[0m\u001b[1;32m    464\u001b[0m \u001b[0;34m\u001b[0m\u001b[0m\n\u001b[1;32m    465\u001b[0m         \u001b[0;32mif\u001b[0m \u001b[0msample_weight\u001b[0m \u001b[0;32mis\u001b[0m \u001b[0;32mnot\u001b[0m \u001b[0;32mNone\u001b[0m \u001b[0;32mand\u001b[0m \u001b[0mnp\u001b[0m\u001b[0;34m.\u001b[0m\u001b[0matleast_1d\u001b[0m\u001b[0;34m(\u001b[0m\u001b[0msample_weight\u001b[0m\u001b[0;34m)\u001b[0m\u001b[0;34m.\u001b[0m\u001b[0mndim\u001b[0m \u001b[0;34m>\u001b[0m \u001b[0;36m1\u001b[0m\u001b[0;34m:\u001b[0m\u001b[0;34m\u001b[0m\u001b[0;34m\u001b[0m\u001b[0m\n",
      "\u001b[0;32m~/anaconda3/lib/python3.7/site-packages/sklearn/utils/validation.py\u001b[0m in \u001b[0;36mcheck_X_y\u001b[0;34m(X, y, accept_sparse, accept_large_sparse, dtype, order, copy, force_all_finite, ensure_2d, allow_nd, multi_output, ensure_min_samples, ensure_min_features, y_numeric, warn_on_dtype, estimator)\u001b[0m\n\u001b[1;32m    717\u001b[0m                     \u001b[0mensure_min_features\u001b[0m\u001b[0;34m=\u001b[0m\u001b[0mensure_min_features\u001b[0m\u001b[0;34m,\u001b[0m\u001b[0;34m\u001b[0m\u001b[0;34m\u001b[0m\u001b[0m\n\u001b[1;32m    718\u001b[0m                     \u001b[0mwarn_on_dtype\u001b[0m\u001b[0;34m=\u001b[0m\u001b[0mwarn_on_dtype\u001b[0m\u001b[0;34m,\u001b[0m\u001b[0;34m\u001b[0m\u001b[0;34m\u001b[0m\u001b[0m\n\u001b[0;32m--> 719\u001b[0;31m                     estimator=estimator)\n\u001b[0m\u001b[1;32m    720\u001b[0m     \u001b[0;32mif\u001b[0m \u001b[0mmulti_output\u001b[0m\u001b[0;34m:\u001b[0m\u001b[0;34m\u001b[0m\u001b[0;34m\u001b[0m\u001b[0m\n\u001b[1;32m    721\u001b[0m         y = check_array(y, 'csr', force_all_finite=True, ensure_2d=False,\n",
      "\u001b[0;32m~/anaconda3/lib/python3.7/site-packages/sklearn/utils/validation.py\u001b[0m in \u001b[0;36mcheck_array\u001b[0;34m(array, accept_sparse, accept_large_sparse, dtype, order, copy, force_all_finite, ensure_2d, allow_nd, ensure_min_samples, ensure_min_features, warn_on_dtype, estimator)\u001b[0m\n\u001b[1;32m    519\u001b[0m                     \u001b[0;34m\"Reshape your data either using array.reshape(-1, 1) if \"\u001b[0m\u001b[0;34m\u001b[0m\u001b[0;34m\u001b[0m\u001b[0m\n\u001b[1;32m    520\u001b[0m                     \u001b[0;34m\"your data has a single feature or array.reshape(1, -1) \"\u001b[0m\u001b[0;34m\u001b[0m\u001b[0;34m\u001b[0m\u001b[0m\n\u001b[0;32m--> 521\u001b[0;31m                     \"if it contains a single sample.\".format(array))\n\u001b[0m\u001b[1;32m    522\u001b[0m \u001b[0;34m\u001b[0m\u001b[0m\n\u001b[1;32m    523\u001b[0m         \u001b[0;31m# in the future np.flexible dtypes will be handled like object dtypes\u001b[0m\u001b[0;34m\u001b[0m\u001b[0;34m\u001b[0m\u001b[0;34m\u001b[0m\u001b[0m\n",
      "\u001b[0;31mValueError\u001b[0m: Expected 2D array, got 1D array instead:\narray=[1989 2001 1990 1998 1996 2007 1986 1987 2010 1988 2006 2011 2003 2015\n 2005 1992 1995 1999 2013 2004 1991].\nReshape your data either using array.reshape(-1, 1) if your data has a single feature or array.reshape(1, -1) if it contains a single sample."
     ]
    }
   ],
   "source": [
    "from sklearn.linear_model import LinearRegression\n",
    "\n",
    "reg_brazil = LinearRegression().fit(X_train_brazil, y_train_brazil)\n",
    "resul_reg_brazil = reg_brazil.score(X_test_brazil, y_test_brazil)\n",
    "\n",
    "reg_world = LinearRegression().fit(X_train_world, y_train_world)\n",
    "resul_reg_world = reg_world.score(X_test_world, y_test_world)\n",
    "\n",
    "\n",
    "print(\"Brazil: {} World: {}\".format(reg_brazil, reg_world))"
   ]
  },
  {
   "cell_type": "code",
   "execution_count": null,
   "metadata": {},
   "outputs": [],
   "source": []
  },
  {
   "cell_type": "markdown",
   "metadata": {
    "colab_type": "text",
    "id": "YPU1kfEVK8sm"
   },
   "source": [
    "### Faixa etária com maior índice de suícidio\n",
    "\n",
    "Abaixo, eu criei uma tabela dinâmica (*pivot table*) para analisar as 6 faixas etárias em função do ano e do número de suicídios por 100 mil habitantes. \n",
    "\n",
    "Meu principal objetivo aqui é identificar qual a faixa etária que tem a maior representatividade entre aqueles que tiram a própria vida, e identificar se houve alguma mudança no perfil ao longo de 30 anos."
   ]
  },
  {
   "cell_type": "code",
   "execution_count": 7,
   "metadata": {
    "colab": {
     "base_uri": "https://localhost:8080/",
     "height": 227
    },
    "colab_type": "code",
    "id": "IR_nZc7bG01Q",
    "outputId": "0c10a93a-59d8-492e-8f6e-abe7fb328430"
   },
   "outputs": [
    {
     "data": {
      "text/html": [
       "<div>\n",
       "<style scoped>\n",
       "    .dataframe tbody tr th:only-of-type {\n",
       "        vertical-align: middle;\n",
       "    }\n",
       "\n",
       "    .dataframe tbody tr th {\n",
       "        vertical-align: top;\n",
       "    }\n",
       "\n",
       "    .dataframe thead th {\n",
       "        text-align: right;\n",
       "    }\n",
       "</style>\n",
       "<table border=\"1\" class=\"dataframe\">\n",
       "  <thead>\n",
       "    <tr style=\"text-align: right;\">\n",
       "      <th>age</th>\n",
       "      <th>5-14 years</th>\n",
       "      <th>15-24 years</th>\n",
       "      <th>25-34 years</th>\n",
       "      <th>35-54 years</th>\n",
       "      <th>55-74 years</th>\n",
       "      <th>75+ years</th>\n",
       "    </tr>\n",
       "    <tr>\n",
       "      <th>year</th>\n",
       "      <th></th>\n",
       "      <th></th>\n",
       "      <th></th>\n",
       "      <th></th>\n",
       "      <th></th>\n",
       "      <th></th>\n",
       "    </tr>\n",
       "  </thead>\n",
       "  <tbody>\n",
       "    <tr>\n",
       "      <th>1985</th>\n",
       "      <td>38.0</td>\n",
       "      <td>470.5</td>\n",
       "      <td>530.0</td>\n",
       "      <td>653.5</td>\n",
       "      <td>341.5</td>\n",
       "      <td>80.5</td>\n",
       "    </tr>\n",
       "    <tr>\n",
       "      <th>1986</th>\n",
       "      <td>31.0</td>\n",
       "      <td>508.0</td>\n",
       "      <td>505.5</td>\n",
       "      <td>651.0</td>\n",
       "      <td>372.0</td>\n",
       "      <td>68.0</td>\n",
       "    </tr>\n",
       "    <tr>\n",
       "      <th>1987</th>\n",
       "      <td>33.5</td>\n",
       "      <td>502.0</td>\n",
       "      <td>565.5</td>\n",
       "      <td>724.5</td>\n",
       "      <td>422.0</td>\n",
       "      <td>88.5</td>\n",
       "    </tr>\n",
       "    <tr>\n",
       "      <th>1988</th>\n",
       "      <td>30.0</td>\n",
       "      <td>472.0</td>\n",
       "      <td>557.5</td>\n",
       "      <td>724.0</td>\n",
       "      <td>356.0</td>\n",
       "      <td>93.5</td>\n",
       "    </tr>\n",
       "    <tr>\n",
       "      <th>1989</th>\n",
       "      <td>31.5</td>\n",
       "      <td>491.5</td>\n",
       "      <td>569.0</td>\n",
       "      <td>692.5</td>\n",
       "      <td>354.5</td>\n",
       "      <td>92.5</td>\n",
       "    </tr>\n",
       "  </tbody>\n",
       "</table>\n",
       "</div>"
      ],
      "text/plain": [
       "age   5-14 years  15-24 years  25-34 years  35-54 years  55-74 years  \\\n",
       "year                                                                   \n",
       "1985        38.0        470.5        530.0        653.5        341.5   \n",
       "1986        31.0        508.0        505.5        651.0        372.0   \n",
       "1987        33.5        502.0        565.5        724.5        422.0   \n",
       "1988        30.0        472.0        557.5        724.0        356.0   \n",
       "1989        31.5        491.5        569.0        692.5        354.5   \n",
       "\n",
       "age   75+ years  \n",
       "year             \n",
       "1985       80.5  \n",
       "1986       68.0  \n",
       "1987       88.5  \n",
       "1988       93.5  \n",
       "1989       92.5  "
      ]
     },
     "execution_count": 7,
     "metadata": {},
     "output_type": "execute_result"
    }
   ],
   "source": [
    "# criar uma tabela dinâmica\n",
    "table = pd.pivot_table(df_brasil, values='suicides_no', index=['year'], columns=['age'])\n",
    "\n",
    "# reordenar as tableas para deixar em ordem crescente\n",
    "column_order = ['5-14 years', '15-24 years', '25-34 years', '35-54 years', '55-74 years', '75+ years']\n",
    "table = table.reindex(column_order, axis=1)\n",
    "\n",
    "# ver as 5 primeiras entradas da pivot table\n",
    "table.head()"
   ]
  },
  {
   "cell_type": "code",
   "execution_count": 15,
   "metadata": {
    "colab": {
     "base_uri": "https://localhost:8080/",
     "height": 515
    },
    "colab_type": "code",
    "id": "AZ8UuFqZLi5T",
    "outputId": "3ba4caef-0c7b-435a-bb71-77c248373a71"
   },
   "outputs": [
    {
     "data": {
      "image/png": "[encoded data removed]",
      "text/plain": [
       "<Figure size 1440x720 with 1 Axes>"
      ]
     },
     "metadata": {
      "needs_background": "light"
     },
     "output_type": "display_data"
    }
   ],
   "source": [
    "# plotar a pivot table das faixas etárias\n",
    "table.plot.bar(stacked=True, figsize=(20,10))\n",
    "plt.legend(title=\"Idade\");"
   ]
  },
  {
   "cell_type": "markdown",
   "metadata": {
    "colab_type": "text",
    "id": "6B1ughmpLium"
   },
   "source": [
    "Mesmo visualmente é fácil identificar que o grupo de pessoas que mais cometem suicídio está entre 35-54 anos. Em segundo lugar, estão pessoas entre 25-34 anos de idade.\n",
    "\n",
    "Juntos, esses dois grupos correspondem a quase 60% dos registros do banco de dados."
   ]
  },
  {
   "cell_type": "code",
   "execution_count": 9,
   "metadata": {
    "colab": {
     "base_uri": "https://localhost:8080/",
     "height": 158
    },
    "colab_type": "code",
    "id": "QgIVvsPVMiH0",
    "outputId": "744ccdac-cd65-4f66-f462-7bace5ab35a2"
   },
   "outputs": [
    {
     "data": {
      "text/plain": [
       "age\n",
       "5-14 years     0.012094\n",
       "15-24 years    0.159993\n",
       "25-34 years    0.211681\n",
       "35-54 years    0.371585\n",
       "55-74 years    0.194571\n",
       "75+ years      0.050076\n",
       "Name: 2015, dtype: float64"
      ]
     },
     "execution_count": 9,
     "metadata": {},
     "output_type": "execute_result"
    }
   ],
   "source": [
    "# estatística de suicídios por faixa etária\n",
    "table[['25-34 years']].loc[2015]\n",
    "table.loc[2015] / table.loc[2015].sum()"
   ]
  },
  {
   "cell_type": "markdown",
   "metadata": {
    "colab_type": "text",
    "id": "fZHt72icN25_"
   },
   "source": [
    "Um outro ponto que vale a pena ressaltar é o aumento de casos entre pessoas acima de 55 anos. Em 1985, as pessoas com mais idade representavam uma pequena fatia do número total.\n",
    "\n",
    "Entretanto, em 2015 é nítido que mesmo para pessoas acima de 75 anos houve um incremento significativo no número de suicídios.\n",
    "\n",
    "Para se inferir a causa dessa mudança de padrão, é necessário se avaliar mais profundamente questões que vão além dos números (como exemplo, fatores qualitativos, momento econômico do país e a cultura dominante de cada época)."
   ]
  },
  {
   "cell_type": "markdown",
   "metadata": {
    "colab_type": "text",
    "id": "Lyrq8U0RDekZ"
   },
   "source": [
    "### Taxa de suicídio entre homens e mulheres\n"
   ]
  },
  {
   "cell_type": "markdown",
   "metadata": {
    "colab_type": "text",
    "id": "ABgm3pcgRZua"
   },
   "source": [
    "Uma outra análise de grande importância é ver a porcentagem dos suicídios entre homens e mulheres.\n",
    "\n",
    "Analisando-se todo o período, o *dataset* utilizado mostrou que aproximadamente 78% dos casos foram cometidos por homens e 22% deles por mulheres. Optou-se por pegar a média dos 30 anos, pois não houve mudança significativa desse comportamento durante o período."
   ]
  },
  {
   "cell_type": "code",
   "execution_count": 10,
   "metadata": {
    "colab": {
     "base_uri": "https://localhost:8080/",
     "height": 254
    },
    "colab_type": "code",
    "id": "3-qsgukyP1MB",
    "outputId": "9f0aacbe-cfad-4e00-d138-4387c56fe361"
   },
   "outputs": [
    {
     "data": {
      "image/png": "[encoded data removed]",
      "text/plain": [
       "<Figure size 432x288 with 1 Axes>"
      ]
     },
     "metadata": {},
     "output_type": "display_data"
    }
   ],
   "source": [
    "# extrair valores entre homens e mulheres\n",
    "homens_mulheres = df_brasil.groupby('sex').suicides_no.sum() / df_brasil.groupby('sex').suicides_no.sum().sum()\n",
    "\n",
    "# plotar o gráfico de pizza\n",
    "plt.pie(homens_mulheres, labels=['mulheres', 'homens'], autopct='%1.1f%%', shadow=True);"
   ]
  },
  {
   "cell_type": "markdown",
   "metadata": {
    "colab_type": "text",
    "id": "ixz-drYDQBwb"
   },
   "source": [
    "### Correlações entre o PIB, IDH e número de suicídios\n",
    "\n",
    "Criando uma matriz de correlação e plotando um *heatmap*, infere-se que o aumento no PIB per capita não diminuiu o número de suicídios por 100 mil habitantes. Na verdade, ele se manteve estável, contrariando o senso comum da maioria das pessoas.\n",
    "\n",
    "Em relação ao IDH, como foi mencionado anteriormente, há muitos valores ausentes nas células, o que pode dar uma interpretação incorreta ou com viés.\n"
   ]
  },
  {
   "cell_type": "code",
   "execution_count": 11,
   "metadata": {
    "colab": {
     "base_uri": "https://localhost:8080/",
     "height": 353
    },
    "colab_type": "code",
    "id": "jcd0QdNySOVa",
    "outputId": "1782b829-f65c-40b3-85d2-c8088e72df94"
   },
   "outputs": [
    {
     "data": {
      "image/png": "[encoded data removed]",
      "text/plain": [
       "<Figure size 432x288 with 2 Axes>"
      ]
     },
     "metadata": {
      "needs_background": "light"
     },
     "output_type": "display_data"
    }
   ],
   "source": [
    "# plotar heatmap\n",
    "corr = df_brasil.corr()\n",
    "sns.heatmap(corr, cmap='RdBu', fmt='.2f', square=True, linecolor='white', annot=True);"
   ]
  },
  {
   "cell_type": "markdown",
   "metadata": {
    "colab_type": "text",
    "id": "ddUo5jicTjaI"
   },
   "source": [
    "## Data Science na prevenção do suicídio\n",
    "\n",
    "O que eu quis trazer neste artigo foi um projeto de análise de dados visando conscientizar a comunidade Python e *Data Science* sobre a real importância de um problema tão latente nos dias atuais - porém negligenciado ou ignorado por boa parte das pessoas.\n",
    "\n",
    "O conjunto de dados usado aqui é simplificado, porém ideal para uma abordagem inicial, para se criar uma consciência situacional a respeito do tema.\n",
    "\n",
    "Há diversas iniciativas dentro do campo da Inteligência Artificial visando não apenas a conscientização, mas também prevenção de suicídios. [Uma das mais populares diz respeito à análise de postagens em redes sociais](https://qz.com/1367197/machines-know-when-someones-about-to-attempt-suicide-how-should-we-use-that-information/), onde algoritmos de *Machine Learning* são capazes de identificar potenciais suicidas e alertar outras pessoas.\n",
    "\n",
    "> **A campanha é em setembro, mas falar sobre prevenção do suicídio em todos os meses do ano é fundamental** *-Setembro Amarelo*\n",
    "\n",
    "Ainda são iniciativas muito incipientes, que esbarram em muitas questões de privacidade, porém empresas como o Facebook já tem apostado nesse caminho.\n",
    "\n",
    "Espero que este artigo tenha trazido um pouco de conhecimento e alertado você sobre um problema tão sério. Sinta-se a vontade para expandir meu *notebook* e compartilhar o resultado com mais pessoas.\n",
    "\n",
    "Lembre-se que não é frescura e que ninguém está querendo aparecer. Na verdade, a gente nunca tem a mínima ideia do que a outra pessoa está passando. Qualquer atitude que você tenha que possa contribuir para a prevenção do suicídio, pode significar uma vida a mais ;)"
   ]
  }
 ],
 "metadata": {
  "colab": {
   "collapsed_sections": [],
   "include_colab_link": true,
   "name": "Setembro Amarelo.ipynb",
   "provenance": []
  },
  "kernelspec": {
   "display_name": "Python 3",
   "language": "python",
   "name": "python3"
  },
  "language_info": {
   "codemirror_mode": {
    "name": "ipython",
    "version": 3
   },
   "file_extension": ".py",
   "mimetype": "text/x-python",
   "name": "python",
   "nbconvert_exporter": "python",
   "pygments_lexer": "ipython3",
   "version": "3.7.3"
  },
  "pycharm": {
   "stem_cell": {
    "cell_type": "raw",
    "metadata": {
     "collapsed": false
    },
    "source": []
   }
  }
 },
 "nbformat": 4,
 "nbformat_minor": 4
}
